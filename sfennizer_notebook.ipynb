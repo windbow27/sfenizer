{
 "cells": [
  {
   "cell_type": "markdown",
   "id": "b52f5e96",
   "metadata": {},
   "source": [
    "### 1. Generate Labels"
   ]
  },
  {
   "cell_type": "markdown",
   "id": "372eac90",
   "metadata": {},
   "source": [
    "Prepares your dataset for training.  \n",
    "- **Extract cells:** Automatically splits a shogi board image into 81 cells.\n",
    "- **Label cells:** Assign a label (piece type or \"empty\") to each cell image.\n",
    "\n",
    "The labeled images will be saved in the `labeled_cells` folder, organized by piece type."
   ]
  },
  {
   "cell_type": "code",
   "execution_count": null,
   "metadata": {},
   "outputs": [],
   "source": [
    "import generate_labels\n",
    "\n",
    "# Detect board and extract cells from an image (place in root)\n",
    "generate_labels.extract_cells(\"shogi_board.jpg\")\n",
    "\n",
    "# Label cells interactively\n",
    "generate_labels.label_cells(cell_dir=\"shogi_cells\", labeled_dir=\"labeled_cells\")\n"
   ]
  },
  {
   "cell_type": "markdown",
   "id": "9e6eb4c9",
   "metadata": {},
   "source": [
    "### 2. Train Classifier"
   ]
  },
  {
   "cell_type": "markdown",
   "id": "259b4963",
   "metadata": {},
   "source": [
    "Trains a neural network to recognize shogi pieces from cell images.  "
   ]
  },
  {
   "cell_type": "code",
   "execution_count": null,
   "id": "9695b437",
   "metadata": {},
   "outputs": [],
   "source": [
    "%run train_classifier.py"
   ]
  },
  {
   "cell_type": "markdown",
   "id": "9ef03c26",
   "metadata": {},
   "source": [
    "### 3. Use Classifier for Prediction and Notation Conversion"
   ]
  },
  {
   "cell_type": "markdown",
   "id": "5b489e9f",
   "metadata": {},
   "source": [
    "Uses your trained model to recognize pieces on a new shogi board image and convert the result to SFEN and CSA notation.\n",
    "\n",
    "- **Detect and warp the board:** Finds the board in your image and corrects its perspective.\n",
    "- **Predict pieces:** Uses the trained model to identify each piece on the board.\n",
    "- **Convert to notation:** Outputs the board in SFEN and CSA formats."
   ]
  },
  {
   "cell_type": "code",
   "execution_count": 5,
   "id": "ce632bd4",
   "metadata": {},
   "outputs": [
    {
     "name": "stdout",
     "output_type": "stream",
     "text": [
      "SFEN:\n",
      "bbnnkkkk+B/ggggpppp+B/+s+s+s+s+s+s+s+s+s/+s+s+s+s+s+s+s+s+s/+s+s+s+s+s+s+s+s+s/+s+s+s+s+s+s+s+s+s/+s+s+s+s+s+s+s+s+s/+s+s+s+s+s+s+s+s+s/+s+s+s+s+s+s+s+s+s b - 1\n",
      "\n",
      "CSA:\n",
      "P1 -KA-KA-KE-KE-OU-OU-OU-OU+UM\n",
      "P2 -KI-KI-KI-KI-FU-FU-FU-FU+UM\n",
      "P3 -NG-NG-NG-NG-NG-NG-NG-NG-NG\n",
      "P4 -NG-NG-NG-NG-NG-NG-NG-NG-NG\n",
      "P5 -NG-NG-NG-NG-NG-NG-NG-NG-NG\n",
      "P6 -NG-NG-NG-NG-NG-NG-NG-NG-NG\n",
      "P7 -NG-NG-NG-NG-NG-NG-NG-NG-NG\n",
      "P8 -NG-NG-NG-NG-NG-NG-NG-NG-NG\n",
      "P9 -NG-NG-NG-NG-NG-NG-NG-NG-NG\n",
      "+\n"
     ]
    }
   ],
   "source": [
    "import use_classifier\n",
    "\n",
    "# Detect and warp the board from a new image\n",
    "warped_board, _, _ = generate_labels.detect_board(\"shogi_board.jpg\")\n",
    "\n",
    "# Predict board pieces\n",
    "board_predictions = use_classifier.predict_board(warped_board)\n",
    "\n",
    "# Convert to SFEN and CSA\n",
    "sfen_str = use_classifier.to_sfen(board_predictions)\n",
    "csa_str = use_classifier.to_csa(board_predictions)\n",
    "\n",
    "print(\"SFEN:\")\n",
    "print(sfen_str)\n",
    "print(\"\\nCSA:\")\n",
    "print(csa_str)"
   ]
  }
 ],
 "metadata": {
  "kernelspec": {
   "display_name": ".venv",
   "language": "python",
   "name": "python3"
  },
  "language_info": {
   "codemirror_mode": {
    "name": "ipython",
    "version": 3
   },
   "file_extension": ".py",
   "mimetype": "text/x-python",
   "name": "python",
   "nbconvert_exporter": "python",
   "pygments_lexer": "ipython3",
   "version": "3.11.5"
  }
 },
 "nbformat": 4,
 "nbformat_minor": 5
}
